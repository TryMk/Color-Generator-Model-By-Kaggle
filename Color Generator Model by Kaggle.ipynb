{
 "cells": [
  {
   "cell_type": "code",
   "execution_count": 69,
   "id": "5117827d-39e7-4354-bed7-81ce657c4561",
   "metadata": {},
   "outputs": [
    {
     "name": "stdout",
     "output_type": "stream",
     "text": [
      "2.16.1\n"
     ]
    }
   ],
   "source": [
    "import tensorflow as tf\n",
    "from tensorflow import keras\n",
    "from keras import preprocessing\n",
    "from tensorflow.keras.preprocessing.text import Tokenizer\n",
    "from tensorflow.keras.models import Sequential\n",
    "from tensorflow.keras.layers import Dense, Dropout, LSTM, Reshape\n",
    "\n",
    "import numpy as np\n",
    "import pandas as pd\n",
    "\n",
    "np.random.seed(10)\n",
    "\n",
    "print (tf.__version__)"
   ]
  },
  {
   "cell_type": "code",
   "execution_count": 48,
   "id": "696b441f-bfa2-4532-99c2-a8278e97c307",
   "metadata": {},
   "outputs": [
    {
     "name": "stdout",
     "output_type": "stream",
     "text": [
      "       air_force_blue_raf   Air Force Blue (Raf)  #5d8aa8   93  138  168\n",
      "0     air_force_blue_usaf  Air Force Blue (Usaf)  #00308f    0   48  143\n",
      "1    air_superiority_blue   Air Superiority Blue  #72a0c1  114  160  193\n",
      "2         alabama_crimson        Alabama Crimson  #a32638  163   38   56\n",
      "3              alice_blue             Alice Blue  #f0f8ff  240  248  255\n",
      "4        alizarin_crimson       Alizarin Crimson  #e32636  227   38   54\n",
      "..                    ...                    ...      ...  ...  ...  ...\n",
      "859         yellow_orange          Yellow Orange  #ffae42  255  174   66\n",
      "860        yellow_process       Yellow (Process)  #ffef00  255  239    0\n",
      "861            yellow_ryb           Yellow (Ryb)  #fefe33  254  254   51\n",
      "862                zaffre                 Zaffre  #0014a8    0   20  168\n",
      "863     zinnwaldite_brown      Zinnwaldite Brown  #2c1608   44   22    8\n",
      "\n",
      "[864 rows x 6 columns]\n"
     ]
    }
   ],
   "source": [
    "data = pd.read_csv('colors_kaggle.csv')\n",
    "print(data)"
   ]
  },
  {
   "cell_type": "code",
   "execution_count": 49,
   "id": "d9915e10-a3d1-4514-838f-861cf42c31ea",
   "metadata": {},
   "outputs": [
    {
     "name": "stdout",
     "output_type": "stream",
     "text": [
      "     air_force_blue_raf   Air Force Blue (Raf)  #5d8aa8   93  138  168\n",
      "0   air_force_blue_usaf  Air Force Blue (Usaf)  #00308f    0   48  143\n",
      "1  air_superiority_blue   Air Superiority Blue  #72a0c1  114  160  193\n",
      "2       alabama_crimson        Alabama Crimson  #a32638  163   38   56\n",
      "3            alice_blue             Alice Blue  #f0f8ff  240  248  255\n",
      "4      alizarin_crimson       Alizarin Crimson  #e32636  227   38   54\n"
     ]
    }
   ],
   "source": [
    "print(data.head(5))"
   ]
  },
  {
   "cell_type": "code",
   "execution_count": 50,
   "id": "b12b6994-fdc4-4c2b-a940-20a22d76448d",
   "metadata": {},
   "outputs": [
    {
     "data": {
      "text/plain": [
       "864"
      ]
     },
     "execution_count": 50,
     "metadata": {},
     "output_type": "execute_result"
    }
   ],
   "source": [
    "len(data)"
   ]
  },
  {
   "cell_type": "code",
   "execution_count": 51,
   "id": "e3c6af7d-eba2-405f-b690-8240024698a3",
   "metadata": {},
   "outputs": [
    {
     "name": "stdout",
     "output_type": "stream",
     "text": [
      "0      Air Force Blue (Usaf)\n",
      "1       Air Superiority Blue\n",
      "2            Alabama Crimson\n",
      "3                 Alice Blue\n",
      "4           Alizarin Crimson\n",
      "               ...          \n",
      "859            Yellow Orange\n",
      "860         Yellow (Process)\n",
      "861             Yellow (Ryb)\n",
      "862                   Zaffre\n",
      "863        Zinnwaldite Brown\n",
      "Name: Air Force Blue (Raf), Length: 864, dtype: object\n"
     ]
    }
   ],
   "source": [
    "names = data.iloc[:,1]\n",
    "print(names)"
   ]
  },
  {
   "cell_type": "code",
   "execution_count": 52,
   "id": "a96b11cb-a066-41f3-a8b0-6fc6a18f424c",
   "metadata": {},
   "outputs": [
    {
     "data": {
      "image/png": "[encoded data removed]",
      "text/plain": [
       "<Figure size 640x480 with 1 Axes>"
      ]
     },
     "metadata": {},
     "output_type": "display_data"
    }
   ],
   "source": [
    "h = sorted(names.str.len().values)\n",
    "\n",
    "import matplotlib.pyplot as plt\n",
    "import scipy.stats as stats\n",
    "\n",
    "fit = stats.norm.pdf(h, np.mean(h), np.std(h))\n",
    "plt.plot(h,fit,'-o')\n",
    "plt.hist(h, density=True)\n",
    "plt.xlabel('Chars')\n",
    "plt.ylabel('Probability density')\n",
    "plt.show()"
   ]
  },
  {
   "cell_type": "code",
   "execution_count": 53,
   "id": "ee24c947-6eb1-4649-a625-4bea216f8cdd",
   "metadata": {},
   "outputs": [
    {
     "data": {
      "text/plain": [
       "41"
      ]
     },
     "execution_count": 53,
     "metadata": {},
     "output_type": "execute_result"
    }
   ],
   "source": [
    "np.array(h).max()"
   ]
  },
  {
   "cell_type": "code",
   "execution_count": 54,
   "id": "c7fcf8fe-bb9d-414c-9b76-489bdd5f7700",
   "metadata": {},
   "outputs": [],
   "source": [
    "maxlen = 25\n",
    "t = Tokenizer(char_level = True)\n",
    "t.fit_on_texts(names)\n",
    "tokenized = t.texts_to_sequences(names)\n",
    "padded_names = preprocessing.sequence.pad_sequences(tokenized,maxlen = maxlen)"
   ]
  },
  {
   "cell_type": "code",
   "execution_count": 55,
   "id": "691534f1-0e75-4a9e-b47e-3941b54ed37a",
   "metadata": {},
   "outputs": [
    {
     "data": {
      "text/plain": [
       "44"
      ]
     },
     "execution_count": 55,
     "metadata": {},
     "output_type": "execute_result"
    }
   ],
   "source": [
    "from keras.utils import to_categorical\n",
    "one_hot_names = to_categorical(padded_names)\n",
    "num_classes = one_hot_names.shape[-1]\n",
    "num_classes"
   ]
  },
  {
   "cell_type": "code",
   "execution_count": 56,
   "id": "45b3c0a5-23b3-448a-bc0a-69da5ed77dc8",
   "metadata": {},
   "outputs": [
    {
     "name": "stdout",
     "output_type": "stream",
     "text": [
      "[[[1. 0. 0. ... 0. 0. 0.]\n",
      "  [1. 0. 0. ... 0. 0. 0.]\n",
      "  [1. 0. 0. ... 0. 0. 0.]\n",
      "  ...\n",
      "  [0. 0. 0. ... 0. 0. 0.]\n",
      "  [0. 0. 0. ... 0. 0. 0.]\n",
      "  [0. 0. 0. ... 0. 0. 0.]]\n",
      "\n",
      " [[1. 0. 0. ... 0. 0. 0.]\n",
      "  [1. 0. 0. ... 0. 0. 0.]\n",
      "  [1. 0. 0. ... 0. 0. 0.]\n",
      "  ...\n",
      "  [0. 0. 0. ... 0. 0. 0.]\n",
      "  [0. 0. 0. ... 0. 0. 0.]\n",
      "  [0. 1. 0. ... 0. 0. 0.]]\n",
      "\n",
      " [[1. 0. 0. ... 0. 0. 0.]\n",
      "  [1. 0. 0. ... 0. 0. 0.]\n",
      "  [1. 0. 0. ... 0. 0. 0.]\n",
      "  ...\n",
      "  [0. 0. 0. ... 0. 0. 0.]\n",
      "  [0. 0. 0. ... 0. 0. 0.]\n",
      "  [0. 0. 0. ... 0. 0. 0.]]\n",
      "\n",
      " ...\n",
      "\n",
      " [[1. 0. 0. ... 0. 0. 0.]\n",
      "  [1. 0. 0. ... 0. 0. 0.]\n",
      "  [1. 0. 0. ... 0. 0. 0.]\n",
      "  ...\n",
      "  [0. 0. 0. ... 0. 0. 0.]\n",
      "  [0. 0. 0. ... 0. 0. 0.]\n",
      "  [0. 0. 0. ... 0. 0. 0.]]\n",
      "\n",
      " [[1. 0. 0. ... 0. 0. 0.]\n",
      "  [1. 0. 0. ... 0. 0. 0.]\n",
      "  [1. 0. 0. ... 0. 0. 0.]\n",
      "  ...\n",
      "  [0. 0. 0. ... 0. 0. 0.]\n",
      "  [0. 0. 1. ... 0. 0. 0.]\n",
      "  [0. 1. 0. ... 0. 0. 0.]]\n",
      "\n",
      " [[1. 0. 0. ... 0. 0. 0.]\n",
      "  [1. 0. 0. ... 0. 0. 0.]\n",
      "  [1. 0. 0. ... 0. 0. 0.]\n",
      "  ...\n",
      "  [0. 0. 0. ... 0. 0. 0.]\n",
      "  [0. 0. 0. ... 0. 0. 0.]\n",
      "  [0. 0. 0. ... 0. 0. 0.]]]\n",
      "(864, 25, 44)\n"
     ]
    },
    {
     "data": {
      "text/plain": [
       "{'e': 1,\n",
       " 'r': 2,\n",
       " 'a': 3,\n",
       " ' ': 4,\n",
       " 'l': 5,\n",
       " 'n': 6,\n",
       " 'i': 7,\n",
       " 'o': 8,\n",
       " 't': 9,\n",
       " 'u': 10,\n",
       " 's': 11,\n",
       " 'd': 12,\n",
       " 'c': 13,\n",
       " 'p': 14,\n",
       " 'g': 15,\n",
       " 'b': 16,\n",
       " 'm': 17,\n",
       " 'h': 18,\n",
       " 'y': 19,\n",
       " 'k': 20,\n",
       " 'w': 21,\n",
       " 'f': 22,\n",
       " 'v': 23,\n",
       " '(': 24,\n",
       " ')': 25,\n",
       " 'z': 26,\n",
       " 'q': 27,\n",
       " '-': 28,\n",
       " 'j': 29,\n",
       " 'x': 30,\n",
       " '1': 31,\n",
       " '/': 32,\n",
       " \"'\": 33,\n",
       " 'é': 34,\n",
       " '#': 35,\n",
       " '’': 36,\n",
       " '&': 37,\n",
       " 'à': 38,\n",
       " 'ú': 39,\n",
       " '9': 40,\n",
       " '7': 41,\n",
       " '3': 42,\n",
       " '.': 43}"
      ]
     },
     "execution_count": 56,
     "metadata": {},
     "output_type": "execute_result"
    }
   ],
   "source": [
    "print(one_hot_names)\n",
    "print(one_hot_names.shape)\n",
    "t.word_index"
   ]
  },
  {
   "cell_type": "code",
   "execution_count": 57,
   "id": "8c018443-26cd-4ffe-b37f-1da551e740a4",
   "metadata": {},
   "outputs": [
    {
     "data": {
      "text/plain": [
       "array([[ 0,  0,  0, ...,  3, 22, 25],\n",
       "       [ 0,  0,  0, ...,  5, 10,  1],\n",
       "       [ 0,  0,  0, ..., 11,  8,  6],\n",
       "       ...,\n",
       "       [ 0,  0,  0, ..., 19, 16, 25],\n",
       "       [ 0,  0,  0, ..., 22,  2,  1],\n",
       "       [ 0,  0,  0, ...,  8, 21,  6]])"
      ]
     },
     "execution_count": 57,
     "metadata": {},
     "output_type": "execute_result"
    }
   ],
   "source": [
    "padded_names"
   ]
  },
  {
   "cell_type": "code",
   "execution_count": 58,
   "id": "ba30b996-5846-44af-8ef2-9d08b2aff888",
   "metadata": {},
   "outputs": [
    {
     "name": "stdout",
     "output_type": "stream",
     "text": [
      "[[0.         0.18823529 0.56078431]\n",
      " [0.44705882 0.62745098 0.75686275]\n",
      " [0.63921569 0.14901961 0.21960784]\n",
      " ...\n",
      " [0.99607843 0.99607843 0.2       ]\n",
      " [0.         0.07843137 0.65882353]\n",
      " [0.17254902 0.08627451 0.03137255]]\n"
     ]
    }
   ],
   "source": [
    "# converting rgb values from 0-255 to 0-1\n",
    "def norm(value):\n",
    "    return value/255\n",
    "normalized_values = np.column_stack([norm(data.iloc[:,3]),norm(data.iloc[:,4]),norm(data.iloc[:,5])])\n",
    "print(normalized_values)"
   ]
  },
  {
   "cell_type": "code",
   "execution_count": 59,
   "id": "7b3bfe98-910f-471d-a059-6ea024a63a3d",
   "metadata": {},
   "outputs": [
    {
     "name": "stderr",
     "output_type": "stream",
     "text": [
      "C:\\Users\\KIIT\\AppData\\Local\\Programs\\Python\\Python312\\Lib\\site-packages\\keras\\src\\layers\\rnn\\rnn.py:204: UserWarning: Do not pass an `input_shape`/`input_dim` argument to a layer. When using Sequential models, prefer using an `Input(shape)` object as the first layer in the model instead.\n",
      "  super().__init__(**kwargs)\n"
     ]
    },
    {
     "data": {
      "text/html": [
       "<pre style=\"white-space:pre;overflow-x:auto;line-height:normal;font-family:Menlo,'DejaVu Sans Mono',consolas,'Courier New',monospace\"><span style=\"font-weight: bold\">Model: \"sequential_3\"</span>\n",
       "</pre>\n"
      ],
      "text/plain": [
       "\u001b[1mModel: \"sequential_3\"\u001b[0m\n"
      ]
     },
     "metadata": {},
     "output_type": "display_data"
    },
    {
     "data": {
      "text/html": [
       "<pre style=\"white-space:pre;overflow-x:auto;line-height:normal;font-family:Menlo,'DejaVu Sans Mono',consolas,'Courier New',monospace\">┏━━━━━━━━━━━━━━━━━━━━━━━━━━━━━━━━━━━━━━┳━━━━━━━━━━━━━━━━━━━━━━━━━━━━━┳━━━━━━━━━━━━━━━━━┓\n",
       "┃<span style=\"font-weight: bold\"> Layer (type)                         </span>┃<span style=\"font-weight: bold\"> Output Shape                </span>┃<span style=\"font-weight: bold\">         Param # </span>┃\n",
       "┡━━━━━━━━━━━━━━━━━━━━━━━━━━━━━━━━━━━━━━╇━━━━━━━━━━━━━━━━━━━━━━━━━━━━━╇━━━━━━━━━━━━━━━━━┩\n",
       "│ lstm_4 (<span style=\"color: #0087ff; text-decoration-color: #0087ff\">LSTM</span>)                        │ (<span style=\"color: #00d7ff; text-decoration-color: #00d7ff\">None</span>, <span style=\"color: #00af00; text-decoration-color: #00af00\">25</span>, <span style=\"color: #00af00; text-decoration-color: #00af00\">256</span>)             │         <span style=\"color: #00af00; text-decoration-color: #00af00\">308,224</span> │\n",
       "├──────────────────────────────────────┼─────────────────────────────┼─────────────────┤\n",
       "│ lstm_5 (<span style=\"color: #0087ff; text-decoration-color: #0087ff\">LSTM</span>)                        │ (<span style=\"color: #00d7ff; text-decoration-color: #00d7ff\">None</span>, <span style=\"color: #00af00; text-decoration-color: #00af00\">128</span>)                 │         <span style=\"color: #00af00; text-decoration-color: #00af00\">197,120</span> │\n",
       "├──────────────────────────────────────┼─────────────────────────────┼─────────────────┤\n",
       "│ dense_4 (<span style=\"color: #0087ff; text-decoration-color: #0087ff\">Dense</span>)                      │ (<span style=\"color: #00d7ff; text-decoration-color: #00d7ff\">None</span>, <span style=\"color: #00af00; text-decoration-color: #00af00\">128</span>)                 │          <span style=\"color: #00af00; text-decoration-color: #00af00\">16,512</span> │\n",
       "├──────────────────────────────────────┼─────────────────────────────┼─────────────────┤\n",
       "│ dense_5 (<span style=\"color: #0087ff; text-decoration-color: #0087ff\">Dense</span>)                      │ (<span style=\"color: #00d7ff; text-decoration-color: #00d7ff\">None</span>, <span style=\"color: #00af00; text-decoration-color: #00af00\">3</span>)                   │             <span style=\"color: #00af00; text-decoration-color: #00af00\">387</span> │\n",
       "└──────────────────────────────────────┴─────────────────────────────┴─────────────────┘\n",
       "</pre>\n"
      ],
      "text/plain": [
       "┏━━━━━━━━━━━━━━━━━━━━━━━━━━━━━━━━━━━━━━┳━━━━━━━━━━━━━━━━━━━━━━━━━━━━━┳━━━━━━━━━━━━━━━━━┓\n",
       "┃\u001b[1m \u001b[0m\u001b[1mLayer (type)                        \u001b[0m\u001b[1m \u001b[0m┃\u001b[1m \u001b[0m\u001b[1mOutput Shape               \u001b[0m\u001b[1m \u001b[0m┃\u001b[1m \u001b[0m\u001b[1m        Param #\u001b[0m\u001b[1m \u001b[0m┃\n",
       "┡━━━━━━━━━━━━━━━━━━━━━━━━━━━━━━━━━━━━━━╇━━━━━━━━━━━━━━━━━━━━━━━━━━━━━╇━━━━━━━━━━━━━━━━━┩\n",
       "│ lstm_4 (\u001b[38;5;33mLSTM\u001b[0m)                        │ (\u001b[38;5;45mNone\u001b[0m, \u001b[38;5;34m25\u001b[0m, \u001b[38;5;34m256\u001b[0m)             │         \u001b[38;5;34m308,224\u001b[0m │\n",
       "├──────────────────────────────────────┼─────────────────────────────┼─────────────────┤\n",
       "│ lstm_5 (\u001b[38;5;33mLSTM\u001b[0m)                        │ (\u001b[38;5;45mNone\u001b[0m, \u001b[38;5;34m128\u001b[0m)                 │         \u001b[38;5;34m197,120\u001b[0m │\n",
       "├──────────────────────────────────────┼─────────────────────────────┼─────────────────┤\n",
       "│ dense_4 (\u001b[38;5;33mDense\u001b[0m)                      │ (\u001b[38;5;45mNone\u001b[0m, \u001b[38;5;34m128\u001b[0m)                 │          \u001b[38;5;34m16,512\u001b[0m │\n",
       "├──────────────────────────────────────┼─────────────────────────────┼─────────────────┤\n",
       "│ dense_5 (\u001b[38;5;33mDense\u001b[0m)                      │ (\u001b[38;5;45mNone\u001b[0m, \u001b[38;5;34m3\u001b[0m)                   │             \u001b[38;5;34m387\u001b[0m │\n",
       "└──────────────────────────────────────┴─────────────────────────────┴─────────────────┘\n"
      ]
     },
     "metadata": {},
     "output_type": "display_data"
    },
    {
     "data": {
      "text/html": [
       "<pre style=\"white-space:pre;overflow-x:auto;line-height:normal;font-family:Menlo,'DejaVu Sans Mono',consolas,'Courier New',monospace\"><span style=\"font-weight: bold\"> Total params: </span><span style=\"color: #00af00; text-decoration-color: #00af00\">522,243</span> (1.99 MB)\n",
       "</pre>\n"
      ],
      "text/plain": [
       "\u001b[1m Total params: \u001b[0m\u001b[38;5;34m522,243\u001b[0m (1.99 MB)\n"
      ]
     },
     "metadata": {},
     "output_type": "display_data"
    },
    {
     "data": {
      "text/html": [
       "<pre style=\"white-space:pre;overflow-x:auto;line-height:normal;font-family:Menlo,'DejaVu Sans Mono',consolas,'Courier New',monospace\"><span style=\"font-weight: bold\"> Trainable params: </span><span style=\"color: #00af00; text-decoration-color: #00af00\">522,243</span> (1.99 MB)\n",
       "</pre>\n"
      ],
      "text/plain": [
       "\u001b[1m Trainable params: \u001b[0m\u001b[38;5;34m522,243\u001b[0m (1.99 MB)\n"
      ]
     },
     "metadata": {},
     "output_type": "display_data"
    },
    {
     "data": {
      "text/html": [
       "<pre style=\"white-space:pre;overflow-x:auto;line-height:normal;font-family:Menlo,'DejaVu Sans Mono',consolas,'Courier New',monospace\"><span style=\"font-weight: bold\"> Non-trainable params: </span><span style=\"color: #00af00; text-decoration-color: #00af00\">0</span> (0.00 B)\n",
       "</pre>\n"
      ],
      "text/plain": [
       "\u001b[1m Non-trainable params: \u001b[0m\u001b[38;5;34m0\u001b[0m (0.00 B)\n"
      ]
     },
     "metadata": {},
     "output_type": "display_data"
    }
   ],
   "source": [
    "model = Sequential()\n",
    "model.add(LSTM(256, return_sequences=True, input_shape=(maxlen, num_classes)))\n",
    "model.add(LSTM(128))\n",
    "model.add(Dense(128, activation='relu'))\n",
    "model.add(Dense(3, activation='sigmoid'))\n",
    "model.compile(optimizer='adam', loss='mse', metrics=['acc'])\n",
    "model.summary()"
   ]
  },
  {
   "cell_type": "code",
   "execution_count": 60,
   "id": "3dae30df-32df-4182-bd81-6137d34887f7",
   "metadata": {},
   "outputs": [
    {
     "data": {
      "text/plain": [
       "(864, 3)"
      ]
     },
     "execution_count": 60,
     "metadata": {},
     "output_type": "execute_result"
    }
   ],
   "source": [
    "normalized_values.shape"
   ]
  },
  {
   "cell_type": "code",
   "execution_count": 61,
   "id": "9e8522dc-2687-487e-8c69-d2a7d228ebc8",
   "metadata": {},
   "outputs": [
    {
     "data": {
      "text/plain": [
       "(864, 25, 44)"
      ]
     },
     "execution_count": 61,
     "metadata": {},
     "output_type": "execute_result"
    }
   ],
   "source": [
    "one_hot_names.shape"
   ]
  },
  {
   "cell_type": "code",
   "execution_count": 62,
   "id": "b45ba86d-c014-4e2a-b44f-2f0daa1c09c9",
   "metadata": {},
   "outputs": [
    {
     "name": "stdout",
     "output_type": "stream",
     "text": [
      "Epoch 1/40\n",
      "\u001b[1m25/25\u001b[0m \u001b[32m━━━━━━━━━━━━━━━━━━━━\u001b[0m\u001b[37m\u001b[0m \u001b[1m6s\u001b[0m 85ms/step - acc: 0.6097 - loss: 0.1011 - val_acc: 0.6207 - val_loss: 0.1001\n",
      "Epoch 2/40\n",
      "\u001b[1m25/25\u001b[0m \u001b[32m━━━━━━━━━━━━━━━━━━━━\u001b[0m\u001b[37m\u001b[0m \u001b[1m2s\u001b[0m 69ms/step - acc: 0.6496 - loss: 0.0913 - val_acc: 0.6782 - val_loss: 0.0924\n",
      "Epoch 3/40\n",
      "\u001b[1m25/25\u001b[0m \u001b[32m━━━━━━━━━━━━━━━━━━━━\u001b[0m\u001b[37m\u001b[0m \u001b[1m2s\u001b[0m 75ms/step - acc: 0.7296 - loss: 0.0840 - val_acc: 0.6782 - val_loss: 0.0881\n",
      "Epoch 4/40\n",
      "\u001b[1m25/25\u001b[0m \u001b[32m━━━━━━━━━━━━━━━━━━━━\u001b[0m\u001b[37m\u001b[0m \u001b[1m2s\u001b[0m 64ms/step - acc: 0.7506 - loss: 0.0787 - val_acc: 0.7241 - val_loss: 0.0838\n",
      "Epoch 5/40\n",
      "\u001b[1m25/25\u001b[0m \u001b[32m━━━━━━━━━━━━━━━━━━━━\u001b[0m\u001b[37m\u001b[0m \u001b[1m1s\u001b[0m 32ms/step - acc: 0.7456 - loss: 0.0733 - val_acc: 0.6782 - val_loss: 0.0832\n",
      "Epoch 6/40\n",
      "\u001b[1m25/25\u001b[0m \u001b[32m━━━━━━━━━━━━━━━━━━━━\u001b[0m\u001b[37m\u001b[0m \u001b[1m1s\u001b[0m 31ms/step - acc: 0.7302 - loss: 0.0709 - val_acc: 0.7011 - val_loss: 0.0860\n",
      "Epoch 7/40\n",
      "\u001b[1m25/25\u001b[0m \u001b[32m━━━━━━━━━━━━━━━━━━━━\u001b[0m\u001b[37m\u001b[0m \u001b[1m1s\u001b[0m 30ms/step - acc: 0.7662 - loss: 0.0700 - val_acc: 0.7241 - val_loss: 0.0788\n",
      "Epoch 8/40\n",
      "\u001b[1m25/25\u001b[0m \u001b[32m━━━━━━━━━━━━━━━━━━━━\u001b[0m\u001b[37m\u001b[0m \u001b[1m1s\u001b[0m 32ms/step - acc: 0.7398 - loss: 0.0689 - val_acc: 0.7356 - val_loss: 0.0817\n",
      "Epoch 9/40\n",
      "\u001b[1m25/25\u001b[0m \u001b[32m━━━━━━━━━━━━━━━━━━━━\u001b[0m\u001b[37m\u001b[0m \u001b[1m1s\u001b[0m 35ms/step - acc: 0.7638 - loss: 0.0691 - val_acc: 0.6782 - val_loss: 0.0803\n",
      "Epoch 10/40\n",
      "\u001b[1m25/25\u001b[0m \u001b[32m━━━━━━━━━━━━━━━━━━━━\u001b[0m\u001b[37m\u001b[0m \u001b[1m1s\u001b[0m 36ms/step - acc: 0.7670 - loss: 0.0642 - val_acc: 0.7471 - val_loss: 0.0854\n",
      "Epoch 11/40\n",
      "\u001b[1m25/25\u001b[0m \u001b[32m━━━━━━━━━━━━━━━━━━━━\u001b[0m\u001b[37m\u001b[0m \u001b[1m1s\u001b[0m 36ms/step - acc: 0.7831 - loss: 0.0633 - val_acc: 0.7471 - val_loss: 0.0788\n",
      "Epoch 12/40\n",
      "\u001b[1m25/25\u001b[0m \u001b[32m━━━━━━━━━━━━━━━━━━━━\u001b[0m\u001b[37m\u001b[0m \u001b[1m1s\u001b[0m 35ms/step - acc: 0.8211 - loss: 0.0589 - val_acc: 0.7241 - val_loss: 0.0818\n",
      "Epoch 13/40\n",
      "\u001b[1m25/25\u001b[0m \u001b[32m━━━━━━━━━━━━━━━━━━━━\u001b[0m\u001b[37m\u001b[0m \u001b[1m1s\u001b[0m 42ms/step - acc: 0.7870 - loss: 0.0585 - val_acc: 0.7471 - val_loss: 0.0803\n",
      "Epoch 14/40\n",
      "\u001b[1m25/25\u001b[0m \u001b[32m━━━━━━━━━━━━━━━━━━━━\u001b[0m\u001b[37m\u001b[0m \u001b[1m1s\u001b[0m 51ms/step - acc: 0.7934 - loss: 0.0564 - val_acc: 0.7586 - val_loss: 0.0825\n",
      "Epoch 15/40\n",
      "\u001b[1m25/25\u001b[0m \u001b[32m━━━━━━━━━━━━━━━━━━━━\u001b[0m\u001b[37m\u001b[0m \u001b[1m1s\u001b[0m 53ms/step - acc: 0.7935 - loss: 0.0601 - val_acc: 0.7356 - val_loss: 0.0873\n",
      "Epoch 16/40\n",
      "\u001b[1m25/25\u001b[0m \u001b[32m━━━━━━━━━━━━━━━━━━━━\u001b[0m\u001b[37m\u001b[0m \u001b[1m1s\u001b[0m 57ms/step - acc: 0.8295 - loss: 0.0509 - val_acc: 0.7816 - val_loss: 0.0917\n",
      "Epoch 17/40\n",
      "\u001b[1m25/25\u001b[0m \u001b[32m━━━━━━━━━━━━━━━━━━━━\u001b[0m\u001b[37m\u001b[0m \u001b[1m1s\u001b[0m 56ms/step - acc: 0.8496 - loss: 0.0472 - val_acc: 0.7586 - val_loss: 0.0855\n",
      "Epoch 18/40\n",
      "\u001b[1m25/25\u001b[0m \u001b[32m━━━━━━━━━━━━━━━━━━━━\u001b[0m\u001b[37m\u001b[0m \u001b[1m1s\u001b[0m 52ms/step - acc: 0.8195 - loss: 0.0481 - val_acc: 0.7356 - val_loss: 0.0943\n",
      "Epoch 19/40\n",
      "\u001b[1m25/25\u001b[0m \u001b[32m━━━━━━━━━━━━━━━━━━━━\u001b[0m\u001b[37m\u001b[0m \u001b[1m1s\u001b[0m 55ms/step - acc: 0.8011 - loss: 0.0478 - val_acc: 0.7816 - val_loss: 0.0801\n",
      "Epoch 20/40\n",
      "\u001b[1m25/25\u001b[0m \u001b[32m━━━━━━━━━━━━━━━━━━━━\u001b[0m\u001b[37m\u001b[0m \u001b[1m2s\u001b[0m 59ms/step - acc: 0.7908 - loss: 0.0458 - val_acc: 0.7701 - val_loss: 0.0838\n",
      "Epoch 21/40\n",
      "\u001b[1m25/25\u001b[0m \u001b[32m━━━━━━━━━━━━━━━━━━━━\u001b[0m\u001b[37m\u001b[0m \u001b[1m2s\u001b[0m 58ms/step - acc: 0.8373 - loss: 0.0440 - val_acc: 0.7586 - val_loss: 0.0877\n",
      "Epoch 22/40\n",
      "\u001b[1m25/25\u001b[0m \u001b[32m━━━━━━━━━━━━━━━━━━━━\u001b[0m\u001b[37m\u001b[0m \u001b[1m2s\u001b[0m 58ms/step - acc: 0.7976 - loss: 0.0452 - val_acc: 0.7471 - val_loss: 0.0844\n",
      "Epoch 23/40\n",
      "\u001b[1m25/25\u001b[0m \u001b[32m━━━━━━━━━━━━━━━━━━━━\u001b[0m\u001b[37m\u001b[0m \u001b[1m2s\u001b[0m 73ms/step - acc: 0.8426 - loss: 0.0388 - val_acc: 0.7701 - val_loss: 0.0851\n",
      "Epoch 24/40\n",
      "\u001b[1m25/25\u001b[0m \u001b[32m━━━━━━━━━━━━━━━━━━━━\u001b[0m\u001b[37m\u001b[0m \u001b[1m2s\u001b[0m 69ms/step - acc: 0.8267 - loss: 0.0403 - val_acc: 0.7586 - val_loss: 0.0827\n",
      "Epoch 25/40\n",
      "\u001b[1m25/25\u001b[0m \u001b[32m━━━━━━━━━━━━━━━━━━━━\u001b[0m\u001b[37m\u001b[0m \u001b[1m2s\u001b[0m 74ms/step - acc: 0.8390 - loss: 0.0338 - val_acc: 0.7586 - val_loss: 0.0976\n",
      "Epoch 26/40\n",
      "\u001b[1m25/25\u001b[0m \u001b[32m━━━━━━━━━━━━━━━━━━━━\u001b[0m\u001b[37m\u001b[0m \u001b[1m2s\u001b[0m 71ms/step - acc: 0.7993 - loss: 0.0374 - val_acc: 0.7586 - val_loss: 0.0838\n",
      "Epoch 27/40\n",
      "\u001b[1m25/25\u001b[0m \u001b[32m━━━━━━━━━━━━━━━━━━━━\u001b[0m\u001b[37m\u001b[0m \u001b[1m2s\u001b[0m 78ms/step - acc: 0.7931 - loss: 0.0335 - val_acc: 0.7241 - val_loss: 0.0954\n",
      "Epoch 28/40\n",
      "\u001b[1m25/25\u001b[0m \u001b[32m━━━━━━━━━━━━━━━━━━━━\u001b[0m\u001b[37m\u001b[0m \u001b[1m2s\u001b[0m 90ms/step - acc: 0.8307 - loss: 0.0352 - val_acc: 0.6667 - val_loss: 0.0889\n",
      "Epoch 29/40\n",
      "\u001b[1m25/25\u001b[0m \u001b[32m━━━━━━━━━━━━━━━━━━━━\u001b[0m\u001b[37m\u001b[0m \u001b[1m2s\u001b[0m 97ms/step - acc: 0.8452 - loss: 0.0292 - val_acc: 0.7126 - val_loss: 0.0920\n",
      "Epoch 30/40\n",
      "\u001b[1m25/25\u001b[0m \u001b[32m━━━━━━━━━━━━━━━━━━━━\u001b[0m\u001b[37m\u001b[0m \u001b[1m3s\u001b[0m 97ms/step - acc: 0.8659 - loss: 0.0291 - val_acc: 0.6897 - val_loss: 0.0920\n",
      "Epoch 31/40\n",
      "\u001b[1m25/25\u001b[0m \u001b[32m━━━━━━━━━━━━━━━━━━━━\u001b[0m\u001b[37m\u001b[0m \u001b[1m2s\u001b[0m 93ms/step - acc: 0.8580 - loss: 0.0263 - val_acc: 0.6437 - val_loss: 0.0905\n",
      "Epoch 32/40\n",
      "\u001b[1m25/25\u001b[0m \u001b[32m━━━━━━━━━━━━━━━━━━━━\u001b[0m\u001b[37m\u001b[0m \u001b[1m2s\u001b[0m 88ms/step - acc: 0.8714 - loss: 0.0254 - val_acc: 0.6897 - val_loss: 0.0872\n",
      "Epoch 33/40\n",
      "\u001b[1m25/25\u001b[0m \u001b[32m━━━━━━━━━━━━━━━━━━━━\u001b[0m\u001b[37m\u001b[0m \u001b[1m2s\u001b[0m 91ms/step - acc: 0.8551 - loss: 0.0228 - val_acc: 0.6437 - val_loss: 0.0902\n",
      "Epoch 34/40\n",
      "\u001b[1m25/25\u001b[0m \u001b[32m━━━━━━━━━━━━━━━━━━━━\u001b[0m\u001b[37m\u001b[0m \u001b[1m2s\u001b[0m 89ms/step - acc: 0.8507 - loss: 0.0197 - val_acc: 0.6207 - val_loss: 0.0942\n",
      "Epoch 35/40\n",
      "\u001b[1m25/25\u001b[0m \u001b[32m━━━━━━━━━━━━━━━━━━━━\u001b[0m\u001b[37m\u001b[0m \u001b[1m2s\u001b[0m 88ms/step - acc: 0.8560 - loss: 0.0207 - val_acc: 0.6437 - val_loss: 0.0953\n",
      "Epoch 36/40\n",
      "\u001b[1m25/25\u001b[0m \u001b[32m━━━━━━━━━━━━━━━━━━━━\u001b[0m\u001b[37m\u001b[0m \u001b[1m2s\u001b[0m 85ms/step - acc: 0.8790 - loss: 0.0181 - val_acc: 0.6552 - val_loss: 0.0910\n",
      "Epoch 37/40\n",
      "\u001b[1m25/25\u001b[0m \u001b[32m━━━━━━━━━━━━━━━━━━━━\u001b[0m\u001b[37m\u001b[0m \u001b[1m2s\u001b[0m 85ms/step - acc: 0.8657 - loss: 0.0176 - val_acc: 0.6437 - val_loss: 0.0939\n",
      "Epoch 38/40\n",
      "\u001b[1m25/25\u001b[0m \u001b[32m━━━━━━━━━━━━━━━━━━━━\u001b[0m\u001b[37m\u001b[0m \u001b[1m2s\u001b[0m 84ms/step - acc: 0.8851 - loss: 0.0135 - val_acc: 0.6782 - val_loss: 0.0897\n",
      "Epoch 39/40\n",
      "\u001b[1m25/25\u001b[0m \u001b[32m━━━━━━━━━━━━━━━━━━━━\u001b[0m\u001b[37m\u001b[0m \u001b[1m2s\u001b[0m 87ms/step - acc: 0.8976 - loss: 0.0141 - val_acc: 0.6552 - val_loss: 0.0912\n",
      "Epoch 40/40\n",
      "\u001b[1m25/25\u001b[0m \u001b[32m━━━━━━━━━━━━━━━━━━━━\u001b[0m\u001b[37m\u001b[0m \u001b[1m2s\u001b[0m 86ms/step - acc: 0.8962 - loss: 0.0125 - val_acc: 0.6667 - val_loss: 0.1027\n"
     ]
    }
   ],
   "source": [
    "history = model.fit(one_hot_names, normalized_values,\n",
    "                    epochs=40, \n",
    "                    batch_size=32,\n",
    "                    validation_split=0.1)"
   ]
  },
  {
   "cell_type": "code",
   "execution_count": null,
   "id": "d462a057-4f53-4ce8-af48-d80b8dc9fec8",
   "metadata": {},
   "outputs": [
    {
     "name": "stdout",
     "output_type": "stream",
     "text": [
      "Epoch 1/10\n",
      "\u001b[1m27/27\u001b[0m \u001b[32m━━━━━━━━━━━━━━━━━━━━\u001b[0m\u001b[37m\u001b[0m \u001b[1m3s\u001b[0m 107ms/step - acc: 0.8903 - loss: 0.0211\n",
      "Epoch 2/10\n",
      "\u001b[1m27/27\u001b[0m \u001b[32m━━━━━━━━━━━━━━━━━━━━\u001b[0m\u001b[37m\u001b[0m \u001b[1m3s\u001b[0m 98ms/step - acc: 0.8589 - loss: 0.0178\n",
      "Epoch 3/10\n",
      "\u001b[1m27/27\u001b[0m \u001b[32m━━━━━━━━━━━━━━━━━━━━\u001b[0m\u001b[37m\u001b[0m \u001b[1m3s\u001b[0m 95ms/step - acc: 0.8583 - loss: 0.0151\n",
      "Epoch 4/10\n",
      "\u001b[1m27/27\u001b[0m \u001b[32m━━━━━━━━━━━━━━━━━━━━\u001b[0m\u001b[37m\u001b[0m \u001b[1m3s\u001b[0m 96ms/step - acc: 0.8801 - loss: 0.0130\n",
      "Epoch 5/10\n",
      "\u001b[1m27/27\u001b[0m \u001b[32m━━━━━━━━━━━━━━━━━━━━\u001b[0m\u001b[37m\u001b[0m \u001b[1m3s\u001b[0m 97ms/step - acc: 0.8669 - loss: 0.0123\n",
      "Epoch 6/10\n",
      "\u001b[1m17/27\u001b[0m \u001b[32m━━━━━━━━━━━━\u001b[0m\u001b[37m━━━━━━━━\u001b[0m \u001b[1m0s\u001b[0m 95ms/step - acc: 0.8897 - loss: 0.0108"
     ]
    }
   ],
   "source": [
    "# train with all data including the 10% that was not included before\n",
    "model.fit(one_hot_names, normalized_values,\n",
    "          epochs=10,\n",
    "          batch_size=32)"
   ]
  },
  {
   "cell_type": "code",
   "execution_count": null,
   "id": "58e99999-cbf0-48d3-bd4d-546de2243f91",
   "metadata": {},
   "outputs": [],
   "source": [
    "model.save_weights('model_1kaggle.weights.h5')"
   ]
  },
  {
   "cell_type": "code",
   "execution_count": null,
   "id": "065c0844-f810-486e-b8ef-e8a5f077d46e",
   "metadata": {},
   "outputs": [],
   "source": [
    "model.load_weights('model_1kaggle.weights.h5')"
   ]
  },
  {
   "cell_type": "code",
   "execution_count": null,
   "id": "ebb01355-7d47-4bb0-9f22-f8862515c4c3",
   "metadata": {},
   "outputs": [],
   "source": [
    "acc = history.history['acc']\n",
    "val_acc = history.history['val_acc']\n",
    "loss = history.history['loss']\n",
    "val_loss = history.history['val_loss']\n",
    "\n",
    "epochs = range(len(acc))\n",
    "\n",
    "plt.plot(epochs, acc, 'bo', label='Training acc')\n",
    "plt.plot(epochs, val_acc, 'b', label='Validation acc')\n",
    "plt.title('Training and validation acc')\n",
    "plt.legend()\n",
    "\n",
    "plt.figure()\n",
    "\n",
    "plt.plot(epochs, loss, 'bo', label='Training loss')\n",
    "plt.plot(epochs, val_loss, 'b', label='Validation loss')\n",
    "plt.title('Training and validation loss')\n",
    "plt.legend()\n",
    "\n",
    "plt.show()"
   ]
  },
  {
   "cell_type": "code",
   "execution_count": null,
   "id": "af09ba7b-2c69-4ef1-b3b8-49a8a75dc6c9",
   "metadata": {},
   "outputs": [],
   "source": [
    "# fn. for plot color image\n",
    "def plot_rgb(rgb):\n",
    "    data =[[rgb]]\n",
    "    plt.figure(figsize=(2,2))\n",
    "    plt.imshow(data, interpolation='nearest')\n",
    "    plt.show()\n",
    "\n",
    "# fn. for rescaling again to 0-255\n",
    "def scale(n):\n",
    "    return int(n*255)\n",
    "\n",
    "# final fn. to display the color\n",
    "def predict(name):\n",
    "    name = name.lower()\n",
    "    tokenized = t.texts_to_sequences([name])\n",
    "    padded = preprocessing.sequence.pad_sequences(tokenized, maxlen=maxlen)\n",
    "    from keras.utils import to_categorical\n",
    "    one_hot = to_categorical(padded, num_classes=num_classes)\n",
    "    pred = model.predict(np.array(one_hot))[0]\n",
    "    r, g, b = scale(pred[0]), scale(pred[1]), scale(pred[2])\n",
    "    print(name + ',', 'R,G,B:', r,g,b)\n",
    "    plot_rgb(pred)"
   ]
  },
  {
   "cell_type": "code",
   "execution_count": null,
   "id": "a55b292a-44a6-4e99-80a1-08bce5e90fd9",
   "metadata": {},
   "outputs": [],
   "source": [
    "predict(\"red\")\n",
    "predict(\"green\")\n",
    "predict(\"blue\")\n",
    "predict(\"rose\")\n",
    "predict(\"sky blue\")\n",
    "predict(\"ochre yellow\")"
   ]
  },
  {
   "cell_type": "code",
   "execution_count": null,
   "id": "61841bc3-3cb0-495f-a82c-7edaf5cd1597",
   "metadata": {},
   "outputs": [],
   "source": []
  },
  {
   "cell_type": "code",
   "execution_count": null,
   "id": "b1b02caa-bcc5-4f38-9845-0a991740229c",
   "metadata": {},
   "outputs": [],
   "source": []
  },
  {
   "cell_type": "code",
   "execution_count": null,
   "id": "511f1f88-a7c6-48a2-970e-978478177760",
   "metadata": {},
   "outputs": [],
   "source": []
  }
 ],
 "metadata": {
  "kernelspec": {
   "display_name": "Python 3 (ipykernel)",
   "language": "python",
   "name": "python3"
  },
  "language_info": {
   "codemirror_mode": {
    "name": "ipython",
    "version": 3
   },
   "file_extension": ".py",
   "mimetype": "text/x-python",
   "name": "python",
   "nbconvert_exporter": "python",
   "pygments_lexer": "ipython3",
   "version": "3.12.1"
  }
 },
 "nbformat": 4,
 "nbformat_minor": 5
}
